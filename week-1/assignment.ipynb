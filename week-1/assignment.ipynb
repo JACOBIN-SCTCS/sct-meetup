{
 "cells": [
  {
   "cell_type": "markdown",
   "metadata": {
    "colab_type": "text",
    "id": "ywYiGpartUZB"
   },
   "source": [
    "### Assignment - Intro to Python and Data Structures\n",
    "The assignment is for students to get a feel of the lesson discussed this week. You are free to ask any doubts regarding working out any questions in the group. Also, updating the worked out notebook on Github is very much engaged, be sure to mention School of AI, Trivandrum. Additional recognition for students who document the work using *markdown*."
   ]
  },
  {
   "cell_type": "markdown",
   "metadata": {
    "colab_type": "text",
    "id": "x7tuquVRtUZX"
   },
   "source": [
    "##### 1) Read the contents of test.csv "
   ]
  },
  {
   "cell_type": "code",
   "execution_count": 0,
   "metadata": {
    "colab": {
     "base_uri": "https://localhost:8080/",
     "height": 34
    },
    "colab_type": "code",
    "id": "TckI83ZntUZl",
    "outputId": "65041fda-f15c-45fd-96a6-1a259770d7d1"
   },
   "outputs": [
    {
     "name": "stdout",
     "output_type": "stream",
     "text": [
      "sample_data  test.csv\n"
     ]
    }
   ],
   "source": [
    "!ls   #Checking for file availabiltity\n"
   ]
  },
  {
   "cell_type": "code",
   "execution_count": 2,
   "metadata": {
    "colab": {
     "base_uri": "https://localhost:8080/",
     "height": 100,
     "resources": {
      "http://localhost:8080/nbextensions/google.colab/files.js": {
       "data": "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",
       "headers": [
        [
         "content-type",
         "application/javascript"
        ]
       ],
       "ok": true,
       "status": 200,
       "status_text": "OK"
      }
     }
    },
    "colab_type": "code",
    "id": "fW6bh1MjDd9q",
    "outputId": "ff8af3f8-9622-4ca6-810f-215174ce95eb"
   },
   "outputs": [
    {
     "data": {
      "text/html": [
       "\n",
       "     <input type=\"file\" id=\"files-379054bf-11b0-4fda-a7d3-a9647884a0af\" name=\"files[]\" multiple disabled />\n",
       "     <output id=\"result-379054bf-11b0-4fda-a7d3-a9647884a0af\">\n",
       "      Upload widget is only available when the cell has been executed in the\n",
       "      current browser session. Please rerun this cell to enable.\n",
       "      </output>\n",
       "      <script src=\"/nbextensions/google.colab/files.js\"></script> "
      ],
      "text/plain": [
       "<IPython.core.display.HTML object>"
      ]
     },
     "metadata": {
      "tags": []
     },
     "output_type": "display_data"
    },
    {
     "name": "stdout",
     "output_type": "stream",
     "text": [
      "Saving test.csv to test.csv\n",
      "User uploaded file \"test.csv\" with length 784 bytes\n"
     ]
    }
   ],
   "source": [
    "from google.colab import files\n",
    "\n",
    "uploaded = files.upload()\n",
    "\n",
    "for fn in uploaded.keys():\n",
    "  print('User uploaded file \"{name}\" with length {length} bytes'.format(\n",
    "      name=fn, length=len(uploaded[fn])))"
   ]
  },
  {
   "cell_type": "markdown",
   "metadata": {
    "colab_type": "text",
    "id": "Knmchb7JAHIV"
   },
   "source": [
    "**Loading the file for processing **\n"
   ]
  },
  {
   "cell_type": "code",
   "execution_count": 3,
   "metadata": {
    "colab": {
     "base_uri": "https://localhost:8080/",
     "height": 54
    },
    "colab_type": "code",
    "id": "vgWONi7nARnl",
    "outputId": "e6b8bfc2-bb25-4db8-84ab-2ea6e0daeceb"
   },
   "outputs": [
    {
     "data": {
      "text/plain": [
       "'Loan_ID,Gender,Married,Education,ApplicantIncome,LoanAmount,Property_Area\\nLP001015,Male,Yes,Graduate,5720,110,Urban\\nLP001022,Male,Yes,Graduate,3076,126,Urban\\nLP001031,Male,Yes,Graduate,5000,208,Urban\\nLP001035,Male,Yes,Graduate,2340,100,Urban\\nLP001051,Male,No,Not Graduate,3276,78,Urban\\nLP001054,Male,Yes,Not Graduate,2165,152,Urban\\nLP001055,Female,No,Not Graduate,2226,59,Semiurban\\nLP001056,Male,Yes,Not Graduate,3881,147,Rural\\nLP001059,Male,Yes,Graduate,13633,280,Urban\\nLP001067,Male,No,Not Graduate,2400,123,Semiurban\\nLP001078,Male,No,Not Graduate,3091,90,Urban\\nLP001082,Male,Yes,Graduate,2185,162,Semiurban\\nLP001083,Male,No,Graduate,4166,40,Urban\\nLP001094,Male,Yes,Graduate,12173,166,Semiurban\\nLP001096,Female,No,Graduate,4666,124,Semiurban\\nLP001099,Male,No,Graduate,5667,131,Urban'"
      ]
     },
     "execution_count": 3,
     "metadata": {
      "tags": []
     },
     "output_type": "execute_result"
    }
   ],
   "source": [
    "file_open =open('test.csv', 'r')  \n",
    "data  = file_open.read()                 #READING THE CONTENTS PRESENT IN THE .csv FILE\n",
    "file_open.close()                        # CLOSING THE FILE AFTER USAGE\n",
    "data                                     # PRINTING CHARACTERS READ\n"
   ]
  },
  {
   "cell_type": "markdown",
   "metadata": {
    "colab_type": "text",
    "id": "2IDwlsWzBXzN"
   },
   "source": [
    "#Preprocessing Data \n",
    "\n",
    "Data  loaded is preprocessed by splitting at places where newline character (\\n) occurs  and further refinement is done by splitting each individual entries on the comma (,) sign ."
   ]
  },
  {
   "cell_type": "code",
   "execution_count": 4,
   "metadata": {
    "colab": {
     "base_uri": "https://localhost:8080/",
     "height": 416
    },
    "colab_type": "code",
    "id": "1ry7gIJGBsKz",
    "outputId": "7ceef98d-c091-42ce-83ac-21d4bea8b477"
   },
   "outputs": [
    {
     "data": {
      "text/plain": [
       "[['Loan_ID',\n",
       "  'Gender',\n",
       "  'Married',\n",
       "  'Education',\n",
       "  'ApplicantIncome',\n",
       "  'LoanAmount',\n",
       "  'Property_Area'],\n",
       " ['LP001015', 'Male', 'Yes', 'Graduate', '5720', '110', 'Urban'],\n",
       " ['LP001022', 'Male', 'Yes', 'Graduate', '3076', '126', 'Urban'],\n",
       " ['LP001031', 'Male', 'Yes', 'Graduate', '5000', '208', 'Urban'],\n",
       " ['LP001035', 'Male', 'Yes', 'Graduate', '2340', '100', 'Urban'],\n",
       " ['LP001051', 'Male', 'No', 'Not Graduate', '3276', '78', 'Urban'],\n",
       " ['LP001054', 'Male', 'Yes', 'Not Graduate', '2165', '152', 'Urban'],\n",
       " ['LP001055', 'Female', 'No', 'Not Graduate', '2226', '59', 'Semiurban'],\n",
       " ['LP001056', 'Male', 'Yes', 'Not Graduate', '3881', '147', 'Rural'],\n",
       " ['LP001059', 'Male', 'Yes', 'Graduate', '13633', '280', 'Urban'],\n",
       " ['LP001067', 'Male', 'No', 'Not Graduate', '2400', '123', 'Semiurban'],\n",
       " ['LP001078', 'Male', 'No', 'Not Graduate', '3091', '90', 'Urban'],\n",
       " ['LP001082', 'Male', 'Yes', 'Graduate', '2185', '162', 'Semiurban'],\n",
       " ['LP001083', 'Male', 'No', 'Graduate', '4166', '40', 'Urban'],\n",
       " ['LP001094', 'Male', 'Yes', 'Graduate', '12173', '166', 'Semiurban'],\n",
       " ['LP001096', 'Female', 'No', 'Graduate', '4666', '124', 'Semiurban'],\n",
       " ['LP001099', 'Male', 'No', 'Graduate', '5667', '131', 'Urban']]"
      ]
     },
     "execution_count": 4,
     "metadata": {
      "tags": []
     },
     "output_type": "execute_result"
    }
   ],
   "source": [
    "first_array = data.split('\\n')\n",
    "first_array\n",
    "\n",
    "cleaned_matrix = []\n",
    "\n",
    "for i in first_array:\n",
    "  cleaned_matrix.append(i.split(','))\n",
    "\n",
    "cleaned_matrix"
   ]
  },
  {
   "cell_type": "markdown",
   "metadata": {
    "colab_type": "text",
    "id": "HaXuqL1ECD3l"
   },
   "source": [
    "Now we need to create a dataframe like structure (dictionary ) .For that we create an empty dictionary  using the **fromkeys()**  functionwith keys given by the first list in matrix and we initialise them to empty lists . \n",
    "\n"
   ]
  },
  {
   "cell_type": "code",
   "execution_count": 5,
   "metadata": {
    "colab": {
     "base_uri": "https://localhost:8080/",
     "height": 139
    },
    "colab_type": "code",
    "id": "EOjHGkqHCdk0",
    "outputId": "377154ad-26c4-433f-f9f4-06f4a589f582"
   },
   "outputs": [
    {
     "data": {
      "text/plain": [
       "{'ApplicantIncome': [],\n",
       " 'Education': [],\n",
       " 'Gender': [],\n",
       " 'LoanAmount': [],\n",
       " 'Loan_ID': [],\n",
       " 'Married': [],\n",
       " 'Property_Area': []}"
      ]
     },
     "execution_count": 5,
     "metadata": {
      "tags": []
     },
     "output_type": "execute_result"
    }
   ],
   "source": [
    "first_row = cleaned_matrix[0]\n",
    "df = dict.fromkeys(first_row)\n",
    "\n",
    "for i in first_row:\n",
    "  df[i] =[]\n",
    "\n",
    "df"
   ]
  },
  {
   "cell_type": "markdown",
   "metadata": {
    "colab_type": "text",
    "id": "4RBvmm4QC5nE"
   },
   "source": [
    "Then by using a loop we append the corresponding column values to the corresponding dictionary entry \n"
   ]
  },
  {
   "cell_type": "code",
   "execution_count": 0,
   "metadata": {
    "colab": {},
    "colab_type": "code",
    "id": "1Q0UtRabC78x"
   },
   "outputs": [],
   "source": [
    "for i in range(1,len(cleaned_matrix)):\n",
    "  for j in range(len(first_row)):\n",
    "    df[first_row[j]].append(cleaned_matrix[i][j])"
   ]
  },
  {
   "cell_type": "markdown",
   "metadata": {
    "colab_type": "text",
    "id": "jQp4YpBFDTUa"
   },
   "source": [
    "print dictionary"
   ]
  },
  {
   "cell_type": "code",
   "execution_count": 7,
   "metadata": {
    "colab": {
     "base_uri": "https://localhost:8080/",
     "height": 1962
    },
    "colab_type": "code",
    "id": "jO-_Wj-HDVML",
    "outputId": "cd342912-c476-44cc-cc62-2d2e55097016"
   },
   "outputs": [
    {
     "data": {
      "text/plain": [
       "{'ApplicantIncome': ['5720',\n",
       "  '3076',\n",
       "  '5000',\n",
       "  '2340',\n",
       "  '3276',\n",
       "  '2165',\n",
       "  '2226',\n",
       "  '3881',\n",
       "  '13633',\n",
       "  '2400',\n",
       "  '3091',\n",
       "  '2185',\n",
       "  '4166',\n",
       "  '12173',\n",
       "  '4666',\n",
       "  '5667'],\n",
       " 'Education': ['Graduate',\n",
       "  'Graduate',\n",
       "  'Graduate',\n",
       "  'Graduate',\n",
       "  'Not Graduate',\n",
       "  'Not Graduate',\n",
       "  'Not Graduate',\n",
       "  'Not Graduate',\n",
       "  'Graduate',\n",
       "  'Not Graduate',\n",
       "  'Not Graduate',\n",
       "  'Graduate',\n",
       "  'Graduate',\n",
       "  'Graduate',\n",
       "  'Graduate',\n",
       "  'Graduate'],\n",
       " 'Gender': ['Male',\n",
       "  'Male',\n",
       "  'Male',\n",
       "  'Male',\n",
       "  'Male',\n",
       "  'Male',\n",
       "  'Female',\n",
       "  'Male',\n",
       "  'Male',\n",
       "  'Male',\n",
       "  'Male',\n",
       "  'Male',\n",
       "  'Male',\n",
       "  'Male',\n",
       "  'Female',\n",
       "  'Male'],\n",
       " 'LoanAmount': ['110',\n",
       "  '126',\n",
       "  '208',\n",
       "  '100',\n",
       "  '78',\n",
       "  '152',\n",
       "  '59',\n",
       "  '147',\n",
       "  '280',\n",
       "  '123',\n",
       "  '90',\n",
       "  '162',\n",
       "  '40',\n",
       "  '166',\n",
       "  '124',\n",
       "  '131'],\n",
       " 'Loan_ID': ['LP001015',\n",
       "  'LP001022',\n",
       "  'LP001031',\n",
       "  'LP001035',\n",
       "  'LP001051',\n",
       "  'LP001054',\n",
       "  'LP001055',\n",
       "  'LP001056',\n",
       "  'LP001059',\n",
       "  'LP001067',\n",
       "  'LP001078',\n",
       "  'LP001082',\n",
       "  'LP001083',\n",
       "  'LP001094',\n",
       "  'LP001096',\n",
       "  'LP001099'],\n",
       " 'Married': ['Yes',\n",
       "  'Yes',\n",
       "  'Yes',\n",
       "  'Yes',\n",
       "  'No',\n",
       "  'Yes',\n",
       "  'No',\n",
       "  'Yes',\n",
       "  'Yes',\n",
       "  'No',\n",
       "  'No',\n",
       "  'Yes',\n",
       "  'No',\n",
       "  'Yes',\n",
       "  'No',\n",
       "  'No'],\n",
       " 'Property_Area': ['Urban',\n",
       "  'Urban',\n",
       "  'Urban',\n",
       "  'Urban',\n",
       "  'Urban',\n",
       "  'Urban',\n",
       "  'Semiurban',\n",
       "  'Rural',\n",
       "  'Urban',\n",
       "  'Semiurban',\n",
       "  'Urban',\n",
       "  'Semiurban',\n",
       "  'Urban',\n",
       "  'Semiurban',\n",
       "  'Semiurban',\n",
       "  'Urban']}"
      ]
     },
     "execution_count": 7,
     "metadata": {
      "tags": []
     },
     "output_type": "execute_result"
    }
   ],
   "source": [
    "df"
   ]
  },
  {
   "cell_type": "markdown",
   "metadata": {
    "colab_type": "text",
    "id": "OcehsupqtUaQ"
   },
   "source": [
    "##### 2) Replace the *Graduate* and *Not Graduate* in the Education column by 1 and 0 respectively"
   ]
  },
  {
   "cell_type": "markdown",
   "metadata": {
    "colab_type": "text",
    "id": "QKDR3_2yDctP"
   },
   "source": [
    "we can convert by accessing the list associated with key **Education** and by using an **if else** construct we append them to a temporary array and assign it to the key **Education**."
   ]
  },
  {
   "cell_type": "code",
   "execution_count": 8,
   "metadata": {
    "colab": {
     "base_uri": "https://localhost:8080/",
     "height": 1702
    },
    "colab_type": "code",
    "id": "0VBZIIRDtUah",
    "outputId": "458c3efe-a445-485b-fa7e-3313cdd81e88"
   },
   "outputs": [
    {
     "data": {
      "text/plain": [
       "{'ApplicantIncome': ['5720',\n",
       "  '3076',\n",
       "  '5000',\n",
       "  '2340',\n",
       "  '3276',\n",
       "  '2165',\n",
       "  '2226',\n",
       "  '3881',\n",
       "  '13633',\n",
       "  '2400',\n",
       "  '3091',\n",
       "  '2185',\n",
       "  '4166',\n",
       "  '12173',\n",
       "  '4666',\n",
       "  '5667'],\n",
       " 'Education': [1, 1, 1, 1, 0, 0, 0, 0, 1, 0, 0, 1, 1, 1, 1, 1],\n",
       " 'Gender': ['Male',\n",
       "  'Male',\n",
       "  'Male',\n",
       "  'Male',\n",
       "  'Male',\n",
       "  'Male',\n",
       "  'Female',\n",
       "  'Male',\n",
       "  'Male',\n",
       "  'Male',\n",
       "  'Male',\n",
       "  'Male',\n",
       "  'Male',\n",
       "  'Male',\n",
       "  'Female',\n",
       "  'Male'],\n",
       " 'LoanAmount': ['110',\n",
       "  '126',\n",
       "  '208',\n",
       "  '100',\n",
       "  '78',\n",
       "  '152',\n",
       "  '59',\n",
       "  '147',\n",
       "  '280',\n",
       "  '123',\n",
       "  '90',\n",
       "  '162',\n",
       "  '40',\n",
       "  '166',\n",
       "  '124',\n",
       "  '131'],\n",
       " 'Loan_ID': ['LP001015',\n",
       "  'LP001022',\n",
       "  'LP001031',\n",
       "  'LP001035',\n",
       "  'LP001051',\n",
       "  'LP001054',\n",
       "  'LP001055',\n",
       "  'LP001056',\n",
       "  'LP001059',\n",
       "  'LP001067',\n",
       "  'LP001078',\n",
       "  'LP001082',\n",
       "  'LP001083',\n",
       "  'LP001094',\n",
       "  'LP001096',\n",
       "  'LP001099'],\n",
       " 'Married': ['Yes',\n",
       "  'Yes',\n",
       "  'Yes',\n",
       "  'Yes',\n",
       "  'No',\n",
       "  'Yes',\n",
       "  'No',\n",
       "  'Yes',\n",
       "  'Yes',\n",
       "  'No',\n",
       "  'No',\n",
       "  'Yes',\n",
       "  'No',\n",
       "  'Yes',\n",
       "  'No',\n",
       "  'No'],\n",
       " 'Property_Area': ['Urban',\n",
       "  'Urban',\n",
       "  'Urban',\n",
       "  'Urban',\n",
       "  'Urban',\n",
       "  'Urban',\n",
       "  'Semiurban',\n",
       "  'Rural',\n",
       "  'Urban',\n",
       "  'Semiurban',\n",
       "  'Urban',\n",
       "  'Semiurban',\n",
       "  'Urban',\n",
       "  'Semiurban',\n",
       "  'Semiurban',\n",
       "  'Urban']}"
      ]
     },
     "execution_count": 8,
     "metadata": {
      "tags": []
     },
     "output_type": "execute_result"
    }
   ],
   "source": [
    "## Your code goes here.\n",
    "graduate_matrix = df['Education']\n",
    "empty_matrix =[]\n",
    "\n",
    "for i in range(len(graduate_matrix)):\n",
    "  if graduate_matrix[i] in 'Graduate':\n",
    "    empty_matrix.append(1)\n",
    "  else:\n",
    "    empty_matrix.append(0)\n",
    "empty_matrix\n",
    "\n",
    "df['Education'] = empty_matrix\n",
    "\n",
    "df"
   ]
  },
  {
   "cell_type": "markdown",
   "metadata": {
    "colab_type": "text",
    "id": "u8AqerhXtUbC"
   },
   "source": [
    "##### 3) Find the minimum and maximum value of *Loan Amount*. Also calculate the mean *Loan Amount*\n"
   ]
  },
  {
   "cell_type": "markdown",
   "metadata": {
    "colab_type": "text",
    "id": "E8Jqtrt5D-24"
   },
   "source": [
    "Since the Loan Amount is a string array we need to convert it to an integer array and to find average we compute sum (loan_sum) and divide it by length to find average. Maximum and Minimum amount can be found out by using the predefined function **max() & min()**\n"
   ]
  },
  {
   "cell_type": "code",
   "execution_count": 15,
   "metadata": {
    "colab": {
     "base_uri": "https://localhost:8080/",
     "height": 69
    },
    "colab_type": "code",
    "id": "2nkkDZ91tUbN",
    "outputId": "92f92f7f-6716-4f99-dd6f-5041586d02a9"
   },
   "outputs": [
    {
     "name": "stdout",
     "output_type": "stream",
     "text": [
      "Maximum value of Loan Amount = 280\n",
      "Minimum value of Loan Amount = 40\n",
      "Average value of Loan Amount = 131\n"
     ]
    }
   ],
   "source": [
    "## Your code goes here.\n",
    "loan_array = []\n",
    "loan_sum=0\n",
    "\n",
    "for i in df['LoanAmount']:\n",
    "  loan_sum +=int(i)\n",
    "  loan_array.append(int(i))\n",
    "  \n",
    "\n",
    "\n",
    "print(\"Maximum value of Loan Amount = \" +str(max(loan_array)))\n",
    "print(\"Minimum value of Loan Amount = \" +str(min(loan_array)))\n",
    "\n",
    "print(\"Average value of Loan Amount = \" +str(loan_sum/len(loan_array)))\n",
    "\n",
    "\n"
   ]
  }
 ],
 "metadata": {
  "colab": {
   "collapsed_sections": [],
   "name": "assignment.ipynb",
   "provenance": [],
   "version": "0.3.2"
  },
  "kernelspec": {
   "display_name": "env",
   "language": "python",
   "name": "env"
  },
  "language_info": {
   "codemirror_mode": {
    "name": "ipython",
    "version": 3
   },
   "file_extension": ".py",
   "mimetype": "text/x-python",
   "name": "python",
   "nbconvert_exporter": "python",
   "pygments_lexer": "ipython3",
   "version": "3.6.6"
  }
 },
 "nbformat": 4,
 "nbformat_minor": 1
}
