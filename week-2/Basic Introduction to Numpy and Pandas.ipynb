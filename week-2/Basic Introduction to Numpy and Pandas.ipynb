{
 "cells": [
  {
   "cell_type": "markdown",
   "metadata": {},
   "source": [
    "# Introduction to Numpy and Pandas\n",
    "\n",
    "## Index\n",
    "### - [Numpy](#numpy)\n",
    "### - [Pandas](#pandas)"
   ]
  },
  {
   "cell_type": "markdown",
   "metadata": {},
   "source": [
    "<a id='numpy'></a>\n",
    "## Numpy\n",
    "Numpy is an array like data structure aimed at doing mathematical computations faster."
   ]
  },
  {
   "cell_type": "markdown",
   "metadata": {},
   "source": [
    "##### Array declaration\n",
    "\n",
    "A common array can be represented as,\n",
    "```\n",
    "arr = [1, 2, 3, 4, 5, 6]\n",
    "# We can convert that to a numpy array as,\n",
    "np_arr = np.array(arr)\n",
    "```\n",
    "Looks nothing special?\n",
    "Read on!\n",
    "\n",
    "Numpy array is meant to do complex numerical matrix operations by leveraging [vectorisation](https://en.wikipedia.org/wiki/Vectorization). Looping over an array can take a lot of time. By efficiently using vectorisation, we can do matrix operations a lot faster. This can be used in scientific computing, machine learning and data processing."
   ]
  },
  {
   "cell_type": "code",
   "execution_count": null,
   "metadata": {},
   "outputs": [],
   "source": [
    "# import the numpy array as follow to get started.\n",
    "import numpy as np\n",
    "print(np.__version__)"
   ]
  },
  {
   "cell_type": "markdown",
   "metadata": {},
   "source": [
    "#### Speed\n",
    "Like mentioned, Speed is a major advantage for a numpy array. Let us verify this fact by taking two arrays and looping over them and doing a vector operation."
   ]
  },
  {
   "cell_type": "code",
   "execution_count": null,
   "metadata": {},
   "outputs": [],
   "source": [
    "# we define an array which contains numbers from 1- 100000\n",
    "arr = []\n",
    "for i in range(1, 10000001):\n",
    "    arr.append(i)"
   ]
  },
  {
   "cell_type": "code",
   "execution_count": null,
   "metadata": {},
   "outputs": [],
   "source": [
    "# we declare the numpy array for the same.\n",
    "numpy_arr = np.array(arr)"
   ]
  },
  {
   "cell_type": "code",
   "execution_count": null,
   "metadata": {},
   "outputs": [],
   "source": [
    "# We are going to double the values in both the array and clock the time taken by both the operations.\n",
    "import time"
   ]
  },
  {
   "cell_type": "code",
   "execution_count": null,
   "metadata": {},
   "outputs": [],
   "source": [
    "# For a normal Array\n",
    "\n",
    "start_time = time.time()\n",
    "\n",
    "for i in range(0, 1000000):\n",
    "    arr[i] = 2*arr[i]\n",
    "\n",
    "total_time_norm = time.time()-start_time\n",
    "print('Ending time = {}'.format(total_time_norm))"
   ]
  },
  {
   "cell_type": "code",
   "execution_count": null,
   "metadata": {},
   "outputs": [],
   "source": [
    "# For a numpy array.\n",
    "\n",
    "start_time = time.time()\n",
    "\n",
    "numpy_arr = 2*numpy_arr\n",
    "\n",
    "total_time_np = time.time()-start_time\n",
    "print('Ending time = {}'.format(total_time_np))"
   ]
  },
  {
   "cell_type": "markdown",
   "metadata": {},
   "source": [
    "##### Result\n",
    "As we can see, the time taken is 3 times less when we use vectorisation operations. So it makes sense to process the data using numpy instead of a regular array."
   ]
  },
  {
   "cell_type": "markdown",
   "metadata": {},
   "source": [
    "#### Other features\n",
    "\n",
    "The main features of numpy besides being able to do vector math, is that it has built in fuctions to compute statistical values like mean, median, sum, etc."
   ]
  },
  {
   "cell_type": "code",
   "execution_count": null,
   "metadata": {},
   "outputs": [],
   "source": [
    "#Computing the mean\n",
    "numpy_arr.mean()"
   ]
  },
  {
   "cell_type": "markdown",
   "metadata": {},
   "source": [
    "Finding the sum of two arrays."
   ]
  },
  {
   "cell_type": "code",
   "execution_count": null,
   "metadata": {},
   "outputs": [],
   "source": [
    "a = np.array([1, 2, 3, 4, 5])\n",
    "b = np.array([10, 11, 12, 13, 14])\n",
    "\n",
    "print(b+a)"
   ]
  },
  {
   "cell_type": "markdown",
   "metadata": {},
   "source": [
    "You can read more about [numpy](https://docs.scipy.org/doc/). If that looks too overwhelming, you can refer the free Udacity course I had mentioned. They provide a very detailed overview about numpy. And the rest, comes with practice."
   ]
  },
  {
   "cell_type": "markdown",
   "metadata": {},
   "source": [
    "<a id='pandas'></a>\n",
    "## Pandas\n",
    "\n",
    "Numpy just made computation faster. Can life get more easier? Yes it can. And that is where pandas comes into play.\n",
    "Pandas provides a data structure called pandas frame for exclusively storing spread sheet style data, processing as fast as numpy and also giving much more functionality and easy syntax! How cool right? Let's dive in."
   ]
  },
  {
   "cell_type": "markdown",
   "metadata": {},
   "source": [
    "#### Loading in csv's and making our lives easier.\n",
    "\n",
    "The last notebook was all about opening and reading the document and processing with Loops after Loops after Loops!\n",
    "Well in this notebook, we will show you how you can do that in a single line."
   ]
  },
  {
   "cell_type": "code",
   "execution_count": null,
   "metadata": {},
   "outputs": [],
   "source": [
    "#import the pandas library.\n",
    "\n",
    "import pandas as pd"
   ]
  },
  {
   "cell_type": "code",
   "execution_count": null,
   "metadata": {},
   "outputs": [],
   "source": [
    "# just like arrays in numpy are called numpy arrays, the cells in pandas are called DataFrame and oftern denoted as df.\n",
    "\n",
    "loan_data_df = pd.read_csv('Data/test.csv')"
   ]
  },
  {
   "cell_type": "markdown",
   "metadata": {},
   "source": [
    "#### Voila! it's done!!"
   ]
  },
  {
   "cell_type": "code",
   "execution_count": null,
   "metadata": {},
   "outputs": [],
   "source": [
    "# This is how you print the first 3 lines of the read elements in pandas. Default count is 5.\n",
    "loan_data_df.head(3)"
   ]
  },
  {
   "cell_type": "markdown",
   "metadata": {},
   "source": [
    "#### A spreadsheet for Python\n",
    "Yes! And I promise you, pandas is to make our lives a lot easier. You can literally do everything that you can do on a spreadsheet on a single line. Let's look into the functionalities"
   ]
  },
  {
   "cell_type": "markdown",
   "metadata": {},
   "source": [
    "#### Accessing elements in pandas by column names.\n",
    "\n",
    "Like we discussed when it comes to a dictionary. A column in pandas can be accessed by specifying the column name as follows.\n",
    "```\n",
    "df[column_name]\n",
    "```"
   ]
  },
  {
   "cell_type": "code",
   "execution_count": null,
   "metadata": {},
   "outputs": [],
   "source": [
    "# Getting the values of a column by name.\n",
    "loan_data_df['Loan_ID'].head()"
   ]
  },
  {
   "cell_type": "markdown",
   "metadata": {},
   "source": [
    "#### Accessing elements in pandas (Indexing)\n",
    "\n",
    "The values in a pandas dataframe can be accessed using the iloc attribute in a dataframe as follows,\n",
    "```\n",
    "df.iloc[row, column]\n",
    "```\n",
    "for row and columns you can specify slicies like you do for a general python list or you can select the entire range by using the ':' instead of a value."
   ]
  },
  {
   "cell_type": "code",
   "execution_count": null,
   "metadata": {},
   "outputs": [],
   "source": [
    "# Eg: for selecting the first five rows of the first column\n",
    "loan_data_df.iloc[0:5, 0]"
   ]
  },
  {
   "cell_type": "markdown",
   "metadata": {},
   "source": [
    "#### Similarities to numpy array.\n",
    "\n",
    "A pandas dataframe can be used for doing computations as well, in a similar fashion to numpy. \n"
   ]
  },
  {
   "cell_type": "code",
   "execution_count": null,
   "metadata": {},
   "outputs": [],
   "source": [
    "# finding the mean of applicant incomes.\n",
    "loan_data_df['ApplicantIncome'].mean()"
   ]
  },
  {
   "cell_type": "code",
   "execution_count": null,
   "metadata": {},
   "outputs": [],
   "source": [
    "# also vectorising operations like addition, subtraction multiplication etc.\n",
    "sum_loan = loan_data_df['ApplicantIncome'] + loan_data_df['LoanAmount']\n",
    "sum_loan.head(3)"
   ]
  },
  {
   "cell_type": "markdown",
   "metadata": {},
   "source": [
    "#### The most important feature however is, 'groupby()'.\n",
    "What would you do if you wanted to group all the elements of the dataframe by some particular category. Say, if you wanted to classify our data into male applicants and female applicants. How would you do it? Well you know its over complicating in pandas when you suggest looping and other ways to do computations. \n",
    "\n",
    "Pandas has a built in function to group elements by a particular value in a column and then do computation like sum, mean and count on that.\n",
    "\n",
    "```\n",
    "### General syntax\n",
    "df.groupby('column_name').count()\n",
    "### This will give us a count of different categories in the data set.\n",
    "```"
   ]
  },
  {
   "cell_type": "code",
   "execution_count": null,
   "metadata": {},
   "outputs": [],
   "source": [
    "# Example to get the count of male and female applicants.\n",
    "loan_data_df.groupby('Gender').count()"
   ]
  },
  {
   "cell_type": "code",
   "execution_count": null,
   "metadata": {},
   "outputs": [],
   "source": [
    "# Ex 2. To get the count of the type of Property Area.\n",
    "loan_data_df.groupby('Property_Area').count()"
   ]
  },
  {
   "cell_type": "markdown",
   "metadata": {},
   "source": [
    "#### More functionality\n",
    "If this won't suffice, pandas offers a functionality called apply() Where you can define custom functions and apply that to the entire data without looping. Like I said, Why loop when you can $Vectorise$.\n",
    "\n",
    "However, I don't plan to confuse the new readers with such advanced topics. I highly suggest that you take the online course on Udacity. It is very good to get going on Data Analysis using python."
   ]
  },
  {
   "cell_type": "markdown",
   "metadata": {},
   "source": [
    "### To conclude.\n",
    "Don't worry if everything sounds overwhelming altogether. Patience is a virtue when it comes to Data Science. So to look deeper into numpy and pandas, you can look into the notebook in this [repo](https://github.com/schoolofaitvm/AI-Series-Week-5)."
   ]
  }
 ],
 "metadata": {
  "kernelspec": {
   "display_name": "Python [conda env:pytorch]",
   "language": "python",
   "name": "conda-env-pytorch-py"
  },
  "language_info": {
   "codemirror_mode": {
    "name": "ipython",
    "version": 3
   },
   "file_extension": ".py",
   "mimetype": "text/x-python",
   "name": "python",
   "nbconvert_exporter": "python",
   "pygments_lexer": "ipython3",
   "version": "3.5.6"
  }
 },
 "nbformat": 4,
 "nbformat_minor": 2
}
